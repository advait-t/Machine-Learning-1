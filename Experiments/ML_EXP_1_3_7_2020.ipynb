{
  "nbformat": 4,
  "nbformat_minor": 0,
  "metadata": {
    "colab": {
      "name": "ML EXP-1  3/7/2020.ipynb",
      "provenance": [],
      "collapsed_sections": [],
      "authorship_tag": "ABX9TyNCp7rdX0jS7VC3OwKM9Ujp",
      "include_colab_link": true
    },
    "kernelspec": {
      "name": "python3",
      "display_name": "Python 3"
    }
  },
  "cells": [
    {
      "cell_type": "markdown",
      "metadata": {
        "id": "view-in-github",
        "colab_type": "text"
      },
      "source": [
        "<a href=\"https://colab.research.google.com/github/hiiamjay/Machine-Learning/blob/master/Experiments/ML_EXP_1_3_7_2020.ipynb\" target=\"_parent\"><img src=\"https://colab.research.google.com/assets/colab-badge.svg\" alt=\"Open In Colab\"/></a>"
      ]
    },
    {
      "cell_type": "markdown",
      "metadata": {
        "id": "TIk-HcEy6PFB",
        "colab_type": "text"
      },
      "source": [
        "**1. What are the categorical variables in this dataset?**"
      ]
    },
    {
      "cell_type": "markdown",
      "metadata": {
        "id": "PwDBJ2VD7B6O",
        "colab_type": "text"
      },
      "source": [
        "1. HOSPT\n",
        "2. TREAT\n",
        "3. Outcome\n",
        "4. Gender"
      ]
    },
    {
      "cell_type": "markdown",
      "metadata": {
        "id": "IrZiJ9zv6Vu9",
        "colab_type": "text"
      },
      "source": [
        "**2. What are the quantitative variables in this dataset?**"
      ]
    },
    {
      "cell_type": "markdown",
      "metadata": {
        "id": "ynO9x3Zf7IMY",
        "colab_type": "text"
      },
      "source": [
        "1. AcuteT\n",
        "2. Age\n",
        "3. Time"
      ]
    },
    {
      "cell_type": "markdown",
      "metadata": {
        "id": "RFJ2KZcB6ZQl",
        "colab_type": "text"
      },
      "source": [
        "**3. Describe the distribution of the variable \"friends\" in dataset - Survey that asked 1,200 U.S. college students about their body perception**"
      ]
    },
    {
      "cell_type": "markdown",
      "metadata": {
        "id": "7El13jIy7jCW",
        "colab_type": "text"
      },
      "source": [
        "\n",
        "\n",
        "*   No difference-602\n",
        "*   Opposite sex-434\n",
        "*   Same sex-164\n",
        "\n"
      ]
    },
    {
      "cell_type": "markdown",
      "metadata": {
        "id": "vnsCekP86cIJ",
        "colab_type": "text"
      },
      "source": [
        "**4. Describe the distribution of the ages of the Best Actor Oscar winners. Be sure to address shape, center, spread and outliers (Dataset - Best Actor Oscar winners (1970-2013))**"
      ]
    },
    {
      "cell_type": "markdown",
      "metadata": {
        "id": "XPZ8aIZ-7xRd",
        "colab_type": "text"
      },
      "source": [
        "* The List contains 44 Actors with a mean age of 44.98, median age of 43.35 and standard deviation of 9.75\n",
        "* There is an actor who is exceptionally old with an age of 76 years."
      ]
    },
    {
      "cell_type": "markdown",
      "metadata": {
        "id": "mJLd2Z9z6mAO",
        "colab_type": "text"
      },
      "source": [
        "**5. Getting information from the output: a. How many observations are in this data set? b. What is the mean age of the actors who won the Oscar? c. What is the five-number summary of the distribution? (Dataset - Best Actor Oscar winners (1970-2013))**"
      ]
    },
    {
      "cell_type": "markdown",
      "metadata": {
        "id": "lzykifWV72o3",
        "colab_type": "text"
      },
      "source": [
        "Data is centered around 42-43, it is right skewed, and ranges from 30 to 75.\n",
        "* Min.    : 29.00\n",
        "* 1st Qu. : 38.00\n",
        "* Median  : 43.50   \n",
        "* Mean    : 44.98    \n",
        "* 3rd Qu. : 50.25 \n",
        "* Max.    : 76.00    \n",
        "\n"
      ]
    },
    {
      "cell_type": "markdown",
      "metadata": {
        "id": "JdFCv38i6ouj",
        "colab_type": "text"
      },
      "source": [
        "**6. Get information from the five-number summary: a. Half of the actors won the Oscar before what age? b. What is the range covered by all the actors' ages? c. What is the range covered by the middle 50% of the ages? (Dataset - Best Actor Oscar winners (1970-2013))**"
      ]
    },
    {
      "cell_type": "markdown",
      "metadata": {
        "id": "4JoSTCbD8mLc",
        "colab_type": "text"
      },
      "source": [
        "* Min.    : 29.00\n",
        "* 1st Qu. : 38.00\n",
        "* Median  : 43.50   \n",
        "* Mean    : 44.98    \n",
        "* 3rd Qu. : 50.25 \n",
        "* Max.    : 76.00  "
      ]
    },
    {
      "cell_type": "markdown",
      "metadata": {
        "id": "s1Zb_E3g6shQ",
        "colab_type": "text"
      },
      "source": [
        "**7. What are the standard deviations of the three rating distributions? Was your intuition correct? (Dataset - 27 students in the class were asked to rate the instructor on a number scale of 1 to 9)**"
      ]
    },
    {
      "cell_type": "markdown",
      "metadata": {
        "id": "ey9CY9VS8rji",
        "colab_type": "text"
      },
      "source": [
        "* Class 1: 1.568929\n",
        "* Class 2: 4\n",
        "* Class 3: 2.631174\n"
      ]
    },
    {
      "cell_type": "markdown",
      "metadata": {
        "id": "W5nTh8Wa6vrn",
        "colab_type": "text"
      },
      "source": [
        "**8. Assume that the average rating in each of the three classes is 5 (which should be visually reasonably clear from the histograms), and recall the interpretation of the SD as a \"typical\" or \"average\" distance between the data points and their mean. Judging from the table and the histograms, which class would have the largest standard deviation, and which one would have the smallest standard deviation? Explain your reasoning (Dataset - 27 students in the class were asked to rate the instructor on a number scale of 1 to 9)**"
      ]
    },
    {
      "cell_type": "markdown",
      "metadata": {
        "id": "kw7Gv_ED80wC",
        "colab_type": "text"
      },
      "source": [
        "* Class 1 has a mean of approximately 5. \n",
        "* In class 2 most of the observations are far from mean therefore standard deviation is higher. \n",
        "* Class has a mix of both close and far from mean observations. \n",
        "* Therefore class 1 has the smallest SD followed by class 3 and class 2"
      ]
    }
  ]
}