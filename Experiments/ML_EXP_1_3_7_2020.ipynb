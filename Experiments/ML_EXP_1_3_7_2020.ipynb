{
  "nbformat": 4,
  "nbformat_minor": 0,
  "metadata": {
    "colab": {
      "name": "ML EXP-1  3/7/2020.ipynb",
      "provenance": [],
      "collapsed_sections": [],
      "authorship_tag": "ABX9TyMGPf9mFz+b4sC1NCUNP6l9",
      "include_colab_link": true
    },
    "kernelspec": {
      "name": "python3",
      "display_name": "Python 3"
    }
  },
  "cells": [
    {
      "cell_type": "markdown",
      "metadata": {
        "id": "view-in-github",
        "colab_type": "text"
      },
      "source": [
        "<a href=\"https://colab.research.google.com/github/hiiamjay/Machine-Learning/blob/master/Experiments/ML_EXP_1_3_7_2020.ipynb\" target=\"_parent\"><img src=\"https://colab.research.google.com/assets/colab-badge.svg\" alt=\"Open In Colab\"/></a>"
      ]
    },
    {
      "cell_type": "code",
      "metadata": {
        "id": "hJvjji_SA2oV",
        "colab_type": "code",
        "colab": {}
      },
      "source": [
        "import pandas as pd\n",
        "import numpy as np\n",
        "import matplotlib.pyplot as plt\n",
        "from google.colab import drive \n",
        "from google.colab import files"
      ],
      "execution_count": 7,
      "outputs": []
    },
    {
      "cell_type": "code",
      "metadata": {
        "id": "JNndaB39BM9P",
        "colab_type": "code",
        "colab": {
          "base_uri": "https://localhost:8080/",
          "height": 54
        },
        "outputId": "e49faffd-9e14-4551-ac6e-ec0042ba619b"
      },
      "source": [
        "drive.mount('/content/gdrive')"
      ],
      "execution_count": 8,
      "outputs": [
        {
          "output_type": "stream",
          "text": [
            "Drive already mounted at /content/gdrive; to attempt to forcibly remount, call drive.mount(\"/content/gdrive\", force_remount=True).\n"
          ],
          "name": "stdout"
        }
      ]
    },
    {
      "cell_type": "code",
      "metadata": {
        "id": "g5GApamtC4QE",
        "colab_type": "code",
        "colab": {}
      },
      "source": [
        "data1=pd.read_csv('/content/gdrive/My Drive/NMIMS/SEM - 5/Machine Learning/Experiments/EXP-1/Datasets/depression.csv')\n",
        "data2=pd.read_csv('/content/gdrive/My Drive/NMIMS/SEM - 5/Machine Learning/Experiments/EXP-1/Datasets/actor_age.csv')\n",
        "data3=pd.read_csv('/content/gdrive/My Drive/NMIMS/SEM - 5/Machine Learning/Experiments/EXP-1/Datasets/friends.csv')\n",
        "data4=pd.read_csv('/content/gdrive/My Drive/NMIMS/SEM - 5/Machine Learning/Experiments/EXP-1/Datasets/grad_data.csv')\n",
        "data5=pd.read_csv('/content/gdrive/My Drive/NMIMS/SEM - 5/Machine Learning/Experiments/EXP-1/Datasets/ratings.csv')"
      ],
      "execution_count": 14,
      "outputs": []
    },
    {
      "cell_type": "markdown",
      "metadata": {
        "id": "Ll0Tv0buE_w7",
        "colab_type": "text"
      },
      "source": [
        "# **Question 1**"
      ]
    },
    {
      "cell_type": "markdown",
      "metadata": {
        "id": "njjXE3bRCqBL",
        "colab_type": "text"
      },
      "source": [
        "**What are the categorical variables in this dataset?**"
      ]
    },
    {
      "cell_type": "code",
      "metadata": {
        "id": "Sw4HnXMsDS9L",
        "colab_type": "code",
        "colab": {
          "base_uri": "https://localhost:8080/",
          "height": 204
        },
        "outputId": "2ad029be-dd28-4685-b70c-c8063e9c0ae4"
      },
      "source": [
        "data1.head()"
      ],
      "execution_count": 20,
      "outputs": [
        {
          "output_type": "execute_result",
          "data": {
            "text/html": [
              "<div>\n",
              "<style scoped>\n",
              "    .dataframe tbody tr th:only-of-type {\n",
              "        vertical-align: middle;\n",
              "    }\n",
              "\n",
              "    .dataframe tbody tr th {\n",
              "        vertical-align: top;\n",
              "    }\n",
              "\n",
              "    .dataframe thead th {\n",
              "        text-align: right;\n",
              "    }\n",
              "</style>\n",
              "<table border=\"1\" class=\"dataframe\">\n",
              "  <thead>\n",
              "    <tr style=\"text-align: right;\">\n",
              "      <th></th>\n",
              "      <th>Unnamed: 0</th>\n",
              "      <th>Hospt</th>\n",
              "      <th>Treat</th>\n",
              "      <th>Outcome</th>\n",
              "      <th>Time</th>\n",
              "      <th>AcuteT</th>\n",
              "      <th>Age</th>\n",
              "      <th>Gender</th>\n",
              "    </tr>\n",
              "  </thead>\n",
              "  <tbody>\n",
              "    <tr>\n",
              "      <th>0</th>\n",
              "      <td>1</td>\n",
              "      <td>1</td>\n",
              "      <td>0</td>\n",
              "      <td>1</td>\n",
              "      <td>36.143002</td>\n",
              "      <td>211</td>\n",
              "      <td>33</td>\n",
              "      <td>1</td>\n",
              "    </tr>\n",
              "    <tr>\n",
              "      <th>1</th>\n",
              "      <td>2</td>\n",
              "      <td>1</td>\n",
              "      <td>1</td>\n",
              "      <td>0</td>\n",
              "      <td>105.142998</td>\n",
              "      <td>176</td>\n",
              "      <td>49</td>\n",
              "      <td>1</td>\n",
              "    </tr>\n",
              "    <tr>\n",
              "      <th>2</th>\n",
              "      <td>3</td>\n",
              "      <td>1</td>\n",
              "      <td>1</td>\n",
              "      <td>0</td>\n",
              "      <td>74.570999</td>\n",
              "      <td>191</td>\n",
              "      <td>50</td>\n",
              "      <td>1</td>\n",
              "    </tr>\n",
              "    <tr>\n",
              "      <th>3</th>\n",
              "      <td>4</td>\n",
              "      <td>1</td>\n",
              "      <td>0</td>\n",
              "      <td>1</td>\n",
              "      <td>49.714001</td>\n",
              "      <td>206</td>\n",
              "      <td>29</td>\n",
              "      <td>2</td>\n",
              "    </tr>\n",
              "    <tr>\n",
              "      <th>4</th>\n",
              "      <td>5</td>\n",
              "      <td>1</td>\n",
              "      <td>0</td>\n",
              "      <td>0</td>\n",
              "      <td>14.429000</td>\n",
              "      <td>63</td>\n",
              "      <td>29</td>\n",
              "      <td>1</td>\n",
              "    </tr>\n",
              "  </tbody>\n",
              "</table>\n",
              "</div>"
            ],
            "text/plain": [
              "   Unnamed: 0  Hospt  Treat  Outcome        Time  AcuteT  Age  Gender\n",
              "0           1      1      0        1   36.143002     211   33       1\n",
              "1           2      1      1        0  105.142998     176   49       1\n",
              "2           3      1      1        0   74.570999     191   50       1\n",
              "3           4      1      0        1   49.714001     206   29       2\n",
              "4           5      1      0        0   14.429000      63   29       1"
            ]
          },
          "metadata": {
            "tags": []
          },
          "execution_count": 20
        }
      ]
    },
    {
      "cell_type": "markdown",
      "metadata": {
        "id": "PwDBJ2VD7B6O",
        "colab_type": "text"
      },
      "source": [
        "1. HOSPT\n",
        "2. TREAT\n",
        "3. Outcome\n",
        "4. Gender"
      ]
    },
    {
      "cell_type": "markdown",
      "metadata": {
        "id": "IrZiJ9zv6Vu9",
        "colab_type": "text"
      },
      "source": [
        "**2. What are the quantitative variables in this dataset?**"
      ]
    },
    {
      "cell_type": "code",
      "metadata": {
        "id": "qskYvIaZEQRW",
        "colab_type": "code",
        "colab": {
          "base_uri": "https://localhost:8080/",
          "height": 204
        },
        "outputId": "ce7ed36d-65f5-4d10-9f13-8a274de4d9de"
      },
      "source": [
        "data1.head()"
      ],
      "execution_count": 21,
      "outputs": [
        {
          "output_type": "execute_result",
          "data": {
            "text/html": [
              "<div>\n",
              "<style scoped>\n",
              "    .dataframe tbody tr th:only-of-type {\n",
              "        vertical-align: middle;\n",
              "    }\n",
              "\n",
              "    .dataframe tbody tr th {\n",
              "        vertical-align: top;\n",
              "    }\n",
              "\n",
              "    .dataframe thead th {\n",
              "        text-align: right;\n",
              "    }\n",
              "</style>\n",
              "<table border=\"1\" class=\"dataframe\">\n",
              "  <thead>\n",
              "    <tr style=\"text-align: right;\">\n",
              "      <th></th>\n",
              "      <th>Unnamed: 0</th>\n",
              "      <th>Hospt</th>\n",
              "      <th>Treat</th>\n",
              "      <th>Outcome</th>\n",
              "      <th>Time</th>\n",
              "      <th>AcuteT</th>\n",
              "      <th>Age</th>\n",
              "      <th>Gender</th>\n",
              "    </tr>\n",
              "  </thead>\n",
              "  <tbody>\n",
              "    <tr>\n",
              "      <th>0</th>\n",
              "      <td>1</td>\n",
              "      <td>1</td>\n",
              "      <td>0</td>\n",
              "      <td>1</td>\n",
              "      <td>36.143002</td>\n",
              "      <td>211</td>\n",
              "      <td>33</td>\n",
              "      <td>1</td>\n",
              "    </tr>\n",
              "    <tr>\n",
              "      <th>1</th>\n",
              "      <td>2</td>\n",
              "      <td>1</td>\n",
              "      <td>1</td>\n",
              "      <td>0</td>\n",
              "      <td>105.142998</td>\n",
              "      <td>176</td>\n",
              "      <td>49</td>\n",
              "      <td>1</td>\n",
              "    </tr>\n",
              "    <tr>\n",
              "      <th>2</th>\n",
              "      <td>3</td>\n",
              "      <td>1</td>\n",
              "      <td>1</td>\n",
              "      <td>0</td>\n",
              "      <td>74.570999</td>\n",
              "      <td>191</td>\n",
              "      <td>50</td>\n",
              "      <td>1</td>\n",
              "    </tr>\n",
              "    <tr>\n",
              "      <th>3</th>\n",
              "      <td>4</td>\n",
              "      <td>1</td>\n",
              "      <td>0</td>\n",
              "      <td>1</td>\n",
              "      <td>49.714001</td>\n",
              "      <td>206</td>\n",
              "      <td>29</td>\n",
              "      <td>2</td>\n",
              "    </tr>\n",
              "    <tr>\n",
              "      <th>4</th>\n",
              "      <td>5</td>\n",
              "      <td>1</td>\n",
              "      <td>0</td>\n",
              "      <td>0</td>\n",
              "      <td>14.429000</td>\n",
              "      <td>63</td>\n",
              "      <td>29</td>\n",
              "      <td>1</td>\n",
              "    </tr>\n",
              "  </tbody>\n",
              "</table>\n",
              "</div>"
            ],
            "text/plain": [
              "   Unnamed: 0  Hospt  Treat  Outcome        Time  AcuteT  Age  Gender\n",
              "0           1      1      0        1   36.143002     211   33       1\n",
              "1           2      1      1        0  105.142998     176   49       1\n",
              "2           3      1      1        0   74.570999     191   50       1\n",
              "3           4      1      0        1   49.714001     206   29       2\n",
              "4           5      1      0        0   14.429000      63   29       1"
            ]
          },
          "metadata": {
            "tags": []
          },
          "execution_count": 21
        }
      ]
    },
    {
      "cell_type": "markdown",
      "metadata": {
        "id": "ynO9x3Zf7IMY",
        "colab_type": "text"
      },
      "source": [
        "1. AcuteT\n",
        "2. Age\n",
        "3. Time"
      ]
    },
    {
      "cell_type": "markdown",
      "metadata": {
        "id": "RFJ2KZcB6ZQl",
        "colab_type": "text"
      },
      "source": [
        "**3. Describe the distribution of the variable \"friends\" in dataset - Survey that asked 1,200 U.S. college students about their body perception**"
      ]
    },
    {
      "cell_type": "markdown",
      "metadata": {
        "id": "7El13jIy7jCW",
        "colab_type": "text"
      },
      "source": [
        "\n",
        "\n",
        "*   No difference-602\n",
        "*   Opposite sex-434\n",
        "*   Same sex-164\n",
        "\n"
      ]
    },
    {
      "cell_type": "markdown",
      "metadata": {
        "id": "vnsCekP86cIJ",
        "colab_type": "text"
      },
      "source": [
        "**4. Describe the distribution of the ages of the Best Actor Oscar winners. Be sure to address shape, center, spread and outliers (Dataset - Best Actor Oscar winners (1970-2013))**"
      ]
    },
    {
      "cell_type": "markdown",
      "metadata": {
        "id": "XPZ8aIZ-7xRd",
        "colab_type": "text"
      },
      "source": [
        "* The List contains 44 Actors with a mean age of 44.98, median age of 43.35 and standard deviation of 9.75\n",
        "* There is an actor who is exceptionally old with an age of 76 years."
      ]
    },
    {
      "cell_type": "markdown",
      "metadata": {
        "id": "mJLd2Z9z6mAO",
        "colab_type": "text"
      },
      "source": [
        "**5. Getting information from the output: a. How many observations are in this data set? b. What is the mean age of the actors who won the Oscar? c. What is the five-number summary of the distribution? (Dataset - Best Actor Oscar winners (1970-2013))**"
      ]
    },
    {
      "cell_type": "markdown",
      "metadata": {
        "id": "lzykifWV72o3",
        "colab_type": "text"
      },
      "source": [
        "Data is centered around 42-43, it is right skewed, and ranges from 30 to 75.\n",
        "* Min.    : 29.00\n",
        "* 1st Qu. : 38.00\n",
        "* Median  : 43.50   \n",
        "* Mean    : 44.98    \n",
        "* 3rd Qu. : 50.25 \n",
        "* Max.    : 76.00    \n",
        "\n"
      ]
    },
    {
      "cell_type": "markdown",
      "metadata": {
        "id": "JdFCv38i6ouj",
        "colab_type": "text"
      },
      "source": [
        "**6. Get information from the five-number summary: a. Half of the actors won the Oscar before what age? b. What is the range covered by all the actors' ages? c. What is the range covered by the middle 50% of the ages? (Dataset - Best Actor Oscar winners (1970-2013))**"
      ]
    },
    {
      "cell_type": "markdown",
      "metadata": {
        "id": "4JoSTCbD8mLc",
        "colab_type": "text"
      },
      "source": [
        "* Min.    : 29.00\n",
        "* 1st Qu. : 38.00\n",
        "* Median  : 43.50   \n",
        "* Mean    : 44.98    \n",
        "* 3rd Qu. : 50.25 \n",
        "* Max.    : 76.00  "
      ]
    },
    {
      "cell_type": "markdown",
      "metadata": {
        "id": "s1Zb_E3g6shQ",
        "colab_type": "text"
      },
      "source": [
        "**7. What are the standard deviations of the three rating distributions? Was your intuition correct? (Dataset - 27 students in the class were asked to rate the instructor on a number scale of 1 to 9)**"
      ]
    },
    {
      "cell_type": "markdown",
      "metadata": {
        "id": "ey9CY9VS8rji",
        "colab_type": "text"
      },
      "source": [
        "* Class 1: 1.568929\n",
        "* Class 2: 4\n",
        "* Class 3: 2.631174\n"
      ]
    },
    {
      "cell_type": "markdown",
      "metadata": {
        "id": "W5nTh8Wa6vrn",
        "colab_type": "text"
      },
      "source": [
        "**8. Assume that the average rating in each of the three classes is 5 (which should be visually reasonably clear from the histograms), and recall the interpretation of the SD as a \"typical\" or \"average\" distance between the data points and their mean. Judging from the table and the histograms, which class would have the largest standard deviation, and which one would have the smallest standard deviation? Explain your reasoning (Dataset - 27 students in the class were asked to rate the instructor on a number scale of 1 to 9)**"
      ]
    },
    {
      "cell_type": "markdown",
      "metadata": {
        "id": "kw7Gv_ED80wC",
        "colab_type": "text"
      },
      "source": [
        "* Class 1 has a mean of approximately 5. \n",
        "* In class 2 most of the observations are far from mean therefore standard deviation is higher. \n",
        "* Class has a mix of both close and far from mean observations. \n",
        "* Therefore class 1 has the smallest SD followed by class 3 and class 2"
      ]
    }
  ]
}